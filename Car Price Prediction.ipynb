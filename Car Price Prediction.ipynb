{
 "cells": [
  {
   "cell_type": "code",
   "execution_count": 1,
   "id": "ca369328-4ae0-4f97-b827-857df44cf5f5",
   "metadata": {},
   "outputs": [],
   "source": [
    "import numpy as np"
   ]
  },
  {
   "cell_type": "code",
   "execution_count": 2,
   "id": "d88a3c68-11cf-4eda-a796-fa94cc1319f0",
   "metadata": {},
   "outputs": [],
   "source": [
    "import pandas as pd"
   ]
  },
  {
   "cell_type": "code",
   "execution_count": 3,
   "id": "a4bef900-72b0-4326-b5b7-2d2b8e9243ce",
   "metadata": {},
   "outputs": [],
   "source": [
    "cols = ['symboling', 'normalized-losses', 'make', 'fuel-type', 'aspiration', 'num-of-doors', 'body-style', \n",
    "        'drive-wheels', 'engine-location', 'wheel-base', 'length', 'width', 'height', 'curb-weight', 'engine-type', \n",
    "        'num-of-cylinders', 'engine-size', 'fuel-system', 'bore', 'stroke', 'compression-rate', 'horsepower', 'peak-rpm', 'city-mpg', 'highway-mpg', 'price']\n",
    "cars = pd.read_csv(\"car-price.data\", names=cols)"
   ]
  },
  {
   "cell_type": "code",
   "execution_count": 4,
   "id": "82e65fb0-1f99-4b96-b3e5-9a2323b35e34",
   "metadata": {},
   "outputs": [
    {
     "data": {
      "text/html": [
       "<div>\n",
       "<style scoped>\n",
       "    .dataframe tbody tr th:only-of-type {\n",
       "        vertical-align: middle;\n",
       "    }\n",
       "\n",
       "    .dataframe tbody tr th {\n",
       "        vertical-align: top;\n",
       "    }\n",
       "\n",
       "    .dataframe thead th {\n",
       "        text-align: right;\n",
       "    }\n",
       "</style>\n",
       "<table border=\"1\" class=\"dataframe\">\n",
       "  <thead>\n",
       "    <tr style=\"text-align: right;\">\n",
       "      <th></th>\n",
       "      <th>symboling</th>\n",
       "      <th>normalized-losses</th>\n",
       "      <th>make</th>\n",
       "      <th>fuel-type</th>\n",
       "      <th>aspiration</th>\n",
       "      <th>num-of-doors</th>\n",
       "      <th>body-style</th>\n",
       "      <th>drive-wheels</th>\n",
       "      <th>engine-location</th>\n",
       "      <th>wheel-base</th>\n",
       "      <th>...</th>\n",
       "      <th>engine-size</th>\n",
       "      <th>fuel-system</th>\n",
       "      <th>bore</th>\n",
       "      <th>stroke</th>\n",
       "      <th>compression-rate</th>\n",
       "      <th>horsepower</th>\n",
       "      <th>peak-rpm</th>\n",
       "      <th>city-mpg</th>\n",
       "      <th>highway-mpg</th>\n",
       "      <th>price</th>\n",
       "    </tr>\n",
       "  </thead>\n",
       "  <tbody>\n",
       "    <tr>\n",
       "      <th>0</th>\n",
       "      <td>3</td>\n",
       "      <td>?</td>\n",
       "      <td>alfa-romero</td>\n",
       "      <td>gas</td>\n",
       "      <td>std</td>\n",
       "      <td>two</td>\n",
       "      <td>convertible</td>\n",
       "      <td>rwd</td>\n",
       "      <td>front</td>\n",
       "      <td>88.6</td>\n",
       "      <td>...</td>\n",
       "      <td>130</td>\n",
       "      <td>mpfi</td>\n",
       "      <td>3.47</td>\n",
       "      <td>2.68</td>\n",
       "      <td>9.0</td>\n",
       "      <td>111</td>\n",
       "      <td>5000</td>\n",
       "      <td>21</td>\n",
       "      <td>27</td>\n",
       "      <td>13495</td>\n",
       "    </tr>\n",
       "    <tr>\n",
       "      <th>1</th>\n",
       "      <td>3</td>\n",
       "      <td>?</td>\n",
       "      <td>alfa-romero</td>\n",
       "      <td>gas</td>\n",
       "      <td>std</td>\n",
       "      <td>two</td>\n",
       "      <td>convertible</td>\n",
       "      <td>rwd</td>\n",
       "      <td>front</td>\n",
       "      <td>88.6</td>\n",
       "      <td>...</td>\n",
       "      <td>130</td>\n",
       "      <td>mpfi</td>\n",
       "      <td>3.47</td>\n",
       "      <td>2.68</td>\n",
       "      <td>9.0</td>\n",
       "      <td>111</td>\n",
       "      <td>5000</td>\n",
       "      <td>21</td>\n",
       "      <td>27</td>\n",
       "      <td>16500</td>\n",
       "    </tr>\n",
       "    <tr>\n",
       "      <th>2</th>\n",
       "      <td>1</td>\n",
       "      <td>?</td>\n",
       "      <td>alfa-romero</td>\n",
       "      <td>gas</td>\n",
       "      <td>std</td>\n",
       "      <td>two</td>\n",
       "      <td>hatchback</td>\n",
       "      <td>rwd</td>\n",
       "      <td>front</td>\n",
       "      <td>94.5</td>\n",
       "      <td>...</td>\n",
       "      <td>152</td>\n",
       "      <td>mpfi</td>\n",
       "      <td>2.68</td>\n",
       "      <td>3.47</td>\n",
       "      <td>9.0</td>\n",
       "      <td>154</td>\n",
       "      <td>5000</td>\n",
       "      <td>19</td>\n",
       "      <td>26</td>\n",
       "      <td>16500</td>\n",
       "    </tr>\n",
       "    <tr>\n",
       "      <th>3</th>\n",
       "      <td>2</td>\n",
       "      <td>164</td>\n",
       "      <td>audi</td>\n",
       "      <td>gas</td>\n",
       "      <td>std</td>\n",
       "      <td>four</td>\n",
       "      <td>sedan</td>\n",
       "      <td>fwd</td>\n",
       "      <td>front</td>\n",
       "      <td>99.8</td>\n",
       "      <td>...</td>\n",
       "      <td>109</td>\n",
       "      <td>mpfi</td>\n",
       "      <td>3.19</td>\n",
       "      <td>3.40</td>\n",
       "      <td>10.0</td>\n",
       "      <td>102</td>\n",
       "      <td>5500</td>\n",
       "      <td>24</td>\n",
       "      <td>30</td>\n",
       "      <td>13950</td>\n",
       "    </tr>\n",
       "    <tr>\n",
       "      <th>4</th>\n",
       "      <td>2</td>\n",
       "      <td>164</td>\n",
       "      <td>audi</td>\n",
       "      <td>gas</td>\n",
       "      <td>std</td>\n",
       "      <td>four</td>\n",
       "      <td>sedan</td>\n",
       "      <td>4wd</td>\n",
       "      <td>front</td>\n",
       "      <td>99.4</td>\n",
       "      <td>...</td>\n",
       "      <td>136</td>\n",
       "      <td>mpfi</td>\n",
       "      <td>3.19</td>\n",
       "      <td>3.40</td>\n",
       "      <td>8.0</td>\n",
       "      <td>115</td>\n",
       "      <td>5500</td>\n",
       "      <td>18</td>\n",
       "      <td>22</td>\n",
       "      <td>17450</td>\n",
       "    </tr>\n",
       "  </tbody>\n",
       "</table>\n",
       "<p>5 rows × 26 columns</p>\n",
       "</div>"
      ],
      "text/plain": [
       "   symboling normalized-losses         make fuel-type aspiration num-of-doors  \\\n",
       "0          3                 ?  alfa-romero       gas        std          two   \n",
       "1          3                 ?  alfa-romero       gas        std          two   \n",
       "2          1                 ?  alfa-romero       gas        std          two   \n",
       "3          2               164         audi       gas        std         four   \n",
       "4          2               164         audi       gas        std         four   \n",
       "\n",
       "    body-style drive-wheels engine-location  wheel-base  ...  engine-size  \\\n",
       "0  convertible          rwd           front        88.6  ...          130   \n",
       "1  convertible          rwd           front        88.6  ...          130   \n",
       "2    hatchback          rwd           front        94.5  ...          152   \n",
       "3        sedan          fwd           front        99.8  ...          109   \n",
       "4        sedan          4wd           front        99.4  ...          136   \n",
       "\n",
       "   fuel-system  bore  stroke compression-rate horsepower  peak-rpm city-mpg  \\\n",
       "0         mpfi  3.47    2.68              9.0        111      5000       21   \n",
       "1         mpfi  3.47    2.68              9.0        111      5000       21   \n",
       "2         mpfi  2.68    3.47              9.0        154      5000       19   \n",
       "3         mpfi  3.19    3.40             10.0        102      5500       24   \n",
       "4         mpfi  3.19    3.40              8.0        115      5500       18   \n",
       "\n",
       "  highway-mpg  price  \n",
       "0          27  13495  \n",
       "1          27  16500  \n",
       "2          26  16500  \n",
       "3          30  13950  \n",
       "4          22  17450  \n",
       "\n",
       "[5 rows x 26 columns]"
      ]
     },
     "execution_count": 4,
     "metadata": {},
     "output_type": "execute_result"
    }
   ],
   "source": [
    "cars.head()"
   ]
  },
  {
   "cell_type": "code",
   "execution_count": 5,
   "id": "f8a409d0-930f-4adb-bfbc-6e81addc67e8",
   "metadata": {},
   "outputs": [
    {
     "name": "stdout",
     "output_type": "stream",
     "text": [
      "<class 'pandas.core.frame.DataFrame'>\n",
      "RangeIndex: 205 entries, 0 to 204\n",
      "Data columns (total 26 columns):\n",
      " #   Column             Non-Null Count  Dtype  \n",
      "---  ------             --------------  -----  \n",
      " 0   symboling          205 non-null    int64  \n",
      " 1   normalized-losses  205 non-null    object \n",
      " 2   make               205 non-null    object \n",
      " 3   fuel-type          205 non-null    object \n",
      " 4   aspiration         205 non-null    object \n",
      " 5   num-of-doors       205 non-null    object \n",
      " 6   body-style         205 non-null    object \n",
      " 7   drive-wheels       205 non-null    object \n",
      " 8   engine-location    205 non-null    object \n",
      " 9   wheel-base         205 non-null    float64\n",
      " 10  length             205 non-null    float64\n",
      " 11  width              205 non-null    float64\n",
      " 12  height             205 non-null    float64\n",
      " 13  curb-weight        205 non-null    int64  \n",
      " 14  engine-type        205 non-null    object \n",
      " 15  num-of-cylinders   205 non-null    object \n",
      " 16  engine-size        205 non-null    int64  \n",
      " 17  fuel-system        205 non-null    object \n",
      " 18  bore               205 non-null    object \n",
      " 19  stroke             205 non-null    object \n",
      " 20  compression-rate   205 non-null    float64\n",
      " 21  horsepower         205 non-null    object \n",
      " 22  peak-rpm           205 non-null    object \n",
      " 23  city-mpg           205 non-null    int64  \n",
      " 24  highway-mpg        205 non-null    int64  \n",
      " 25  price              205 non-null    object \n",
      "dtypes: float64(5), int64(5), object(16)\n",
      "memory usage: 41.8+ KB\n"
     ]
    }
   ],
   "source": [
    "cars.info()"
   ]
  },
  {
   "cell_type": "markdown",
   "id": "b0731249-94ef-4850-856c-d48d69f5bcf0",
   "metadata": {},
   "source": [
    "## **Data Cleaning**"
   ]
  },
  {
   "cell_type": "markdown",
   "id": "3e3e472f-6767-4072-a9f3-b92fd6bce17b",
   "metadata": {},
   "source": [
    "- feature columns --> wheel-base, length, width, height, curb-weight, num-of-cylinders, engine-size, horsepower, peak-rpm, city-mpg, highway-mpg\r",
    "- \n",
    "target column --> pric\n",
    "\n",
    "Since, normalized losses and other columns contain null values in the form of ? we need to replace these values.e"
   ]
  },
  {
   "cell_type": "code",
   "execution_count": 6,
   "id": "500fcf96-a0c3-49db-9fad-a25064cba152",
   "metadata": {},
   "outputs": [],
   "source": [
    "cars.replace('?', np.nan, inplace=True)"
   ]
  },
  {
   "cell_type": "code",
   "execution_count": 7,
   "id": "495b15ca-01f8-4493-a222-503c0ebecfe2",
   "metadata": {},
   "outputs": [
    {
     "name": "stdout",
     "output_type": "stream",
     "text": [
      "<class 'pandas.core.frame.DataFrame'>\n",
      "RangeIndex: 205 entries, 0 to 204\n",
      "Data columns (total 26 columns):\n",
      " #   Column             Non-Null Count  Dtype  \n",
      "---  ------             --------------  -----  \n",
      " 0   symboling          205 non-null    int64  \n",
      " 1   normalized-losses  164 non-null    object \n",
      " 2   make               205 non-null    object \n",
      " 3   fuel-type          205 non-null    object \n",
      " 4   aspiration         205 non-null    object \n",
      " 5   num-of-doors       203 non-null    object \n",
      " 6   body-style         205 non-null    object \n",
      " 7   drive-wheels       205 non-null    object \n",
      " 8   engine-location    205 non-null    object \n",
      " 9   wheel-base         205 non-null    float64\n",
      " 10  length             205 non-null    float64\n",
      " 11  width              205 non-null    float64\n",
      " 12  height             205 non-null    float64\n",
      " 13  curb-weight        205 non-null    int64  \n",
      " 14  engine-type        205 non-null    object \n",
      " 15  num-of-cylinders   205 non-null    object \n",
      " 16  engine-size        205 non-null    int64  \n",
      " 17  fuel-system        205 non-null    object \n",
      " 18  bore               201 non-null    object \n",
      " 19  stroke             201 non-null    object \n",
      " 20  compression-rate   205 non-null    float64\n",
      " 21  horsepower         203 non-null    object \n",
      " 22  peak-rpm           203 non-null    object \n",
      " 23  city-mpg           205 non-null    int64  \n",
      " 24  highway-mpg        205 non-null    int64  \n",
      " 25  price              201 non-null    object \n",
      "dtypes: float64(5), int64(5), object(16)\n",
      "memory usage: 41.8+ KB\n"
     ]
    }
   ],
   "source": [
    "cars.info()"
   ]
  },
  {
   "cell_type": "code",
   "execution_count": 8,
   "id": "b776e5ea-1198-4a48-b13e-699026bcb33e",
   "metadata": {},
   "outputs": [
    {
     "data": {
      "text/html": [
       "<div>\n",
       "<style scoped>\n",
       "    .dataframe tbody tr th:only-of-type {\n",
       "        vertical-align: middle;\n",
       "    }\n",
       "\n",
       "    .dataframe tbody tr th {\n",
       "        vertical-align: top;\n",
       "    }\n",
       "\n",
       "    .dataframe thead th {\n",
       "        text-align: right;\n",
       "    }\n",
       "</style>\n",
       "<table border=\"1\" class=\"dataframe\">\n",
       "  <thead>\n",
       "    <tr style=\"text-align: right;\">\n",
       "      <th></th>\n",
       "      <th>symboling</th>\n",
       "      <th>normalized-losses</th>\n",
       "      <th>make</th>\n",
       "      <th>fuel-type</th>\n",
       "      <th>aspiration</th>\n",
       "      <th>num-of-doors</th>\n",
       "      <th>body-style</th>\n",
       "      <th>drive-wheels</th>\n",
       "      <th>engine-location</th>\n",
       "      <th>wheel-base</th>\n",
       "      <th>...</th>\n",
       "      <th>engine-size</th>\n",
       "      <th>fuel-system</th>\n",
       "      <th>bore</th>\n",
       "      <th>stroke</th>\n",
       "      <th>compression-rate</th>\n",
       "      <th>horsepower</th>\n",
       "      <th>peak-rpm</th>\n",
       "      <th>city-mpg</th>\n",
       "      <th>highway-mpg</th>\n",
       "      <th>price</th>\n",
       "    </tr>\n",
       "  </thead>\n",
       "  <tbody>\n",
       "    <tr>\n",
       "      <th>0</th>\n",
       "      <td>3</td>\n",
       "      <td>NaN</td>\n",
       "      <td>alfa-romero</td>\n",
       "      <td>gas</td>\n",
       "      <td>std</td>\n",
       "      <td>two</td>\n",
       "      <td>convertible</td>\n",
       "      <td>rwd</td>\n",
       "      <td>front</td>\n",
       "      <td>88.6</td>\n",
       "      <td>...</td>\n",
       "      <td>130</td>\n",
       "      <td>mpfi</td>\n",
       "      <td>3.47</td>\n",
       "      <td>2.68</td>\n",
       "      <td>9.0</td>\n",
       "      <td>111</td>\n",
       "      <td>5000</td>\n",
       "      <td>21</td>\n",
       "      <td>27</td>\n",
       "      <td>13495</td>\n",
       "    </tr>\n",
       "    <tr>\n",
       "      <th>1</th>\n",
       "      <td>3</td>\n",
       "      <td>NaN</td>\n",
       "      <td>alfa-romero</td>\n",
       "      <td>gas</td>\n",
       "      <td>std</td>\n",
       "      <td>two</td>\n",
       "      <td>convertible</td>\n",
       "      <td>rwd</td>\n",
       "      <td>front</td>\n",
       "      <td>88.6</td>\n",
       "      <td>...</td>\n",
       "      <td>130</td>\n",
       "      <td>mpfi</td>\n",
       "      <td>3.47</td>\n",
       "      <td>2.68</td>\n",
       "      <td>9.0</td>\n",
       "      <td>111</td>\n",
       "      <td>5000</td>\n",
       "      <td>21</td>\n",
       "      <td>27</td>\n",
       "      <td>16500</td>\n",
       "    </tr>\n",
       "    <tr>\n",
       "      <th>2</th>\n",
       "      <td>1</td>\n",
       "      <td>NaN</td>\n",
       "      <td>alfa-romero</td>\n",
       "      <td>gas</td>\n",
       "      <td>std</td>\n",
       "      <td>two</td>\n",
       "      <td>hatchback</td>\n",
       "      <td>rwd</td>\n",
       "      <td>front</td>\n",
       "      <td>94.5</td>\n",
       "      <td>...</td>\n",
       "      <td>152</td>\n",
       "      <td>mpfi</td>\n",
       "      <td>2.68</td>\n",
       "      <td>3.47</td>\n",
       "      <td>9.0</td>\n",
       "      <td>154</td>\n",
       "      <td>5000</td>\n",
       "      <td>19</td>\n",
       "      <td>26</td>\n",
       "      <td>16500</td>\n",
       "    </tr>\n",
       "    <tr>\n",
       "      <th>3</th>\n",
       "      <td>2</td>\n",
       "      <td>164</td>\n",
       "      <td>audi</td>\n",
       "      <td>gas</td>\n",
       "      <td>std</td>\n",
       "      <td>four</td>\n",
       "      <td>sedan</td>\n",
       "      <td>fwd</td>\n",
       "      <td>front</td>\n",
       "      <td>99.8</td>\n",
       "      <td>...</td>\n",
       "      <td>109</td>\n",
       "      <td>mpfi</td>\n",
       "      <td>3.19</td>\n",
       "      <td>3.40</td>\n",
       "      <td>10.0</td>\n",
       "      <td>102</td>\n",
       "      <td>5500</td>\n",
       "      <td>24</td>\n",
       "      <td>30</td>\n",
       "      <td>13950</td>\n",
       "    </tr>\n",
       "    <tr>\n",
       "      <th>4</th>\n",
       "      <td>2</td>\n",
       "      <td>164</td>\n",
       "      <td>audi</td>\n",
       "      <td>gas</td>\n",
       "      <td>std</td>\n",
       "      <td>four</td>\n",
       "      <td>sedan</td>\n",
       "      <td>4wd</td>\n",
       "      <td>front</td>\n",
       "      <td>99.4</td>\n",
       "      <td>...</td>\n",
       "      <td>136</td>\n",
       "      <td>mpfi</td>\n",
       "      <td>3.19</td>\n",
       "      <td>3.40</td>\n",
       "      <td>8.0</td>\n",
       "      <td>115</td>\n",
       "      <td>5500</td>\n",
       "      <td>18</td>\n",
       "      <td>22</td>\n",
       "      <td>17450</td>\n",
       "    </tr>\n",
       "  </tbody>\n",
       "</table>\n",
       "<p>5 rows × 26 columns</p>\n",
       "</div>"
      ],
      "text/plain": [
       "   symboling normalized-losses         make fuel-type aspiration num-of-doors  \\\n",
       "0          3               NaN  alfa-romero       gas        std          two   \n",
       "1          3               NaN  alfa-romero       gas        std          two   \n",
       "2          1               NaN  alfa-romero       gas        std          two   \n",
       "3          2               164         audi       gas        std         four   \n",
       "4          2               164         audi       gas        std         four   \n",
       "\n",
       "    body-style drive-wheels engine-location  wheel-base  ...  engine-size  \\\n",
       "0  convertible          rwd           front        88.6  ...          130   \n",
       "1  convertible          rwd           front        88.6  ...          130   \n",
       "2    hatchback          rwd           front        94.5  ...          152   \n",
       "3        sedan          fwd           front        99.8  ...          109   \n",
       "4        sedan          4wd           front        99.4  ...          136   \n",
       "\n",
       "   fuel-system  bore  stroke compression-rate horsepower  peak-rpm city-mpg  \\\n",
       "0         mpfi  3.47    2.68              9.0        111      5000       21   \n",
       "1         mpfi  3.47    2.68              9.0        111      5000       21   \n",
       "2         mpfi  2.68    3.47              9.0        154      5000       19   \n",
       "3         mpfi  3.19    3.40             10.0        102      5500       24   \n",
       "4         mpfi  3.19    3.40              8.0        115      5500       18   \n",
       "\n",
       "  highway-mpg  price  \n",
       "0          27  13495  \n",
       "1          27  16500  \n",
       "2          26  16500  \n",
       "3          30  13950  \n",
       "4          22  17450  \n",
       "\n",
       "[5 rows x 26 columns]"
      ]
     },
     "execution_count": 8,
     "metadata": {},
     "output_type": "execute_result"
    }
   ],
   "source": [
    "cars.head()"
   ]
  },
  {
   "cell_type": "code",
   "execution_count": 9,
   "id": "68a94dea-793e-447b-8873-8031f2ef3696",
   "metadata": {},
   "outputs": [],
   "source": [
    "def cylinder_count(val):\n",
    "    if val == 'four':\n",
    "        return 4\n",
    "    elif val == 'six':\n",
    "        return 6\n",
    "    elif val == 'five':\n",
    "        return 5\n",
    "    elif val == 'three':\n",
    "        return 3\n",
    "    elif val == 'twelve':\n",
    "        return 12\n",
    "    elif val == 'two':\n",
    "        return 2\n",
    "    elif val == 'eight':\n",
    "        return 8"
   ]
  },
  {
   "cell_type": "code",
   "execution_count": 10,
   "id": "d7c9072c-64eb-4f4d-a38d-ec02c6e7ffba",
   "metadata": {},
   "outputs": [],
   "source": [
    "cars['num-of-cylinders'] = cars['num-of-cylinders'].apply(cylinder_count).astype(int)"
   ]
  },
  {
   "cell_type": "code",
   "execution_count": 11,
   "id": "20659cbb-f82f-49cc-9980-cfd3e1bf26ed",
   "metadata": {},
   "outputs": [],
   "source": [
    "numeric_values_cols = ['normalized-losses', 'wheel-base', 'length', 'width', 'height', 'curb-weight', 'engine-size', 'bore', 'stroke', 'compression-rate', 'horsepower', 'peak-rpm', 'city-mpg', 'highway-mpg', 'price']\n",
    "numeric_cars = cars[numeric_values_cols]"
   ]
  },
  {
   "cell_type": "code",
   "execution_count": 12,
   "id": "a7369207-84b4-49a3-8665-8913d29246a8",
   "metadata": {},
   "outputs": [],
   "source": [
    "numeric_cars = numeric_cars.astype(float)"
   ]
  },
  {
   "cell_type": "code",
   "execution_count": 13,
   "id": "12ec1a57-0e4a-4ad0-91c0-805095decdc0",
   "metadata": {},
   "outputs": [
    {
     "name": "stdout",
     "output_type": "stream",
     "text": [
      "<class 'pandas.core.frame.DataFrame'>\n",
      "RangeIndex: 205 entries, 0 to 204\n",
      "Data columns (total 15 columns):\n",
      " #   Column             Non-Null Count  Dtype  \n",
      "---  ------             --------------  -----  \n",
      " 0   normalized-losses  164 non-null    float64\n",
      " 1   wheel-base         205 non-null    float64\n",
      " 2   length             205 non-null    float64\n",
      " 3   width              205 non-null    float64\n",
      " 4   height             205 non-null    float64\n",
      " 5   curb-weight        205 non-null    float64\n",
      " 6   engine-size        205 non-null    float64\n",
      " 7   bore               201 non-null    float64\n",
      " 8   stroke             201 non-null    float64\n",
      " 9   compression-rate   205 non-null    float64\n",
      " 10  horsepower         203 non-null    float64\n",
      " 11  peak-rpm           203 non-null    float64\n",
      " 12  city-mpg           205 non-null    float64\n",
      " 13  highway-mpg        205 non-null    float64\n",
      " 14  price              201 non-null    float64\n",
      "dtypes: float64(15)\n",
      "memory usage: 24.1 KB\n"
     ]
    }
   ],
   "source": [
    "numeric_cars.info()"
   ]
  },
  {
   "cell_type": "code",
   "execution_count": 14,
   "id": "fca00b26-9b86-4f27-9f1b-03594fc91389",
   "metadata": {},
   "outputs": [],
   "source": [
    "# Since, price is the target column we don't need rows with missing price, we can drop those rows.\n",
    "numeric_cars.dropna(subset=['price'], inplace=True)"
   ]
  },
  {
   "cell_type": "code",
   "execution_count": 15,
   "id": "aec6ef71-6815-4c01-8668-27582ceccd22",
   "metadata": {},
   "outputs": [],
   "source": [
    "mean_losses = np.mean(numeric_cars[numeric_cars['normalized-losses'].notnull()]['normalized-losses'])"
   ]
  },
  {
   "cell_type": "code",
   "execution_count": 16,
   "id": "38f07090-7162-468e-ad50-edd5ec2545c6",
   "metadata": {},
   "outputs": [],
   "source": [
    "# normalized losses column contains the most missing values (ie-37),\n",
    "# so we need to fill these values, we will fill them with the mean.\n",
    "numeric_cars['normalized-losses'].fillna(value=mean_losses, inplace=True)"
   ]
  },
  {
   "cell_type": "code",
   "execution_count": 17,
   "id": "57ed6d88-f46c-4db9-87b1-e4c8a67daa7c",
   "metadata": {},
   "outputs": [
    {
     "name": "stdout",
     "output_type": "stream",
     "text": [
      "<class 'pandas.core.frame.DataFrame'>\n",
      "Index: 201 entries, 0 to 204\n",
      "Data columns (total 15 columns):\n",
      " #   Column             Non-Null Count  Dtype  \n",
      "---  ------             --------------  -----  \n",
      " 0   normalized-losses  201 non-null    float64\n",
      " 1   wheel-base         201 non-null    float64\n",
      " 2   length             201 non-null    float64\n",
      " 3   width              201 non-null    float64\n",
      " 4   height             201 non-null    float64\n",
      " 5   curb-weight        201 non-null    float64\n",
      " 6   engine-size        201 non-null    float64\n",
      " 7   bore               197 non-null    float64\n",
      " 8   stroke             197 non-null    float64\n",
      " 9   compression-rate   201 non-null    float64\n",
      " 10  horsepower         199 non-null    float64\n",
      " 11  peak-rpm           199 non-null    float64\n",
      " 12  city-mpg           201 non-null    float64\n",
      " 13  highway-mpg        201 non-null    float64\n",
      " 14  price              201 non-null    float64\n",
      "dtypes: float64(15)\n",
      "memory usage: 25.1 KB\n"
     ]
    }
   ],
   "source": [
    "numeric_cars.info()"
   ]
  },
  {
   "cell_type": "code",
   "execution_count": 18,
   "id": "1352ad73-5d1e-4274-9660-1a73543d3984",
   "metadata": {},
   "outputs": [
    {
     "name": "stdout",
     "output_type": "stream",
     "text": [
      "<class 'pandas.core.frame.DataFrame'>\n",
      "Index: 201 entries, 0 to 204\n",
      "Data columns (total 15 columns):\n",
      " #   Column             Non-Null Count  Dtype  \n",
      "---  ------             --------------  -----  \n",
      " 0   normalized-losses  201 non-null    float64\n",
      " 1   wheel-base         201 non-null    float64\n",
      " 2   length             201 non-null    float64\n",
      " 3   width              201 non-null    float64\n",
      " 4   height             201 non-null    float64\n",
      " 5   curb-weight        201 non-null    float64\n",
      " 6   engine-size        201 non-null    float64\n",
      " 7   bore               201 non-null    float64\n",
      " 8   stroke             201 non-null    float64\n",
      " 9   compression-rate   201 non-null    float64\n",
      " 10  horsepower         201 non-null    float64\n",
      " 11  peak-rpm           201 non-null    float64\n",
      " 12  city-mpg           201 non-null    float64\n",
      " 13  highway-mpg        201 non-null    float64\n",
      " 14  price              201 non-null    float64\n",
      "dtypes: float64(15)\n",
      "memory usage: 25.1 KB\n"
     ]
    }
   ],
   "source": [
    "numeric_cars.fillna(numeric_cars.mean(), inplace=True)\n",
    "numeric_cars.info()"
   ]
  },
  {
   "cell_type": "code",
   "execution_count": 19,
   "id": "46fbb113-288f-4ed2-a70c-0163e11ab741",
   "metadata": {},
   "outputs": [],
   "source": [
    "price_col = numeric_cars['price']\n",
    "numeric_cars = (numeric_cars - numeric_cars.min()) / (numeric_cars.max() - numeric_cars.min())\n",
    "numeric_cars['price'] = price_col"
   ]
  },
  {
   "cell_type": "code",
   "execution_count": 20,
   "id": "188ff2d1-9a47-414c-aebb-7e494d530d13",
   "metadata": {},
   "outputs": [
    {
     "data": {
      "text/html": [
       "<div>\n",
       "<style scoped>\n",
       "    .dataframe tbody tr th:only-of-type {\n",
       "        vertical-align: middle;\n",
       "    }\n",
       "\n",
       "    .dataframe tbody tr th {\n",
       "        vertical-align: top;\n",
       "    }\n",
       "\n",
       "    .dataframe thead th {\n",
       "        text-align: right;\n",
       "    }\n",
       "</style>\n",
       "<table border=\"1\" class=\"dataframe\">\n",
       "  <thead>\n",
       "    <tr style=\"text-align: right;\">\n",
       "      <th></th>\n",
       "      <th>normalized-losses</th>\n",
       "      <th>wheel-base</th>\n",
       "      <th>length</th>\n",
       "      <th>width</th>\n",
       "      <th>height</th>\n",
       "      <th>curb-weight</th>\n",
       "      <th>engine-size</th>\n",
       "      <th>bore</th>\n",
       "      <th>stroke</th>\n",
       "      <th>compression-rate</th>\n",
       "      <th>horsepower</th>\n",
       "      <th>peak-rpm</th>\n",
       "      <th>city-mpg</th>\n",
       "      <th>highway-mpg</th>\n",
       "      <th>price</th>\n",
       "    </tr>\n",
       "  </thead>\n",
       "  <tbody>\n",
       "    <tr>\n",
       "      <th>0</th>\n",
       "      <td>0.298429</td>\n",
       "      <td>0.058309</td>\n",
       "      <td>0.413433</td>\n",
       "      <td>0.324786</td>\n",
       "      <td>0.083333</td>\n",
       "      <td>0.411171</td>\n",
       "      <td>0.260377</td>\n",
       "      <td>0.664286</td>\n",
       "      <td>0.290476</td>\n",
       "      <td>0.1250</td>\n",
       "      <td>0.294393</td>\n",
       "      <td>0.346939</td>\n",
       "      <td>0.222222</td>\n",
       "      <td>0.289474</td>\n",
       "      <td>13495.0</td>\n",
       "    </tr>\n",
       "    <tr>\n",
       "      <th>1</th>\n",
       "      <td>0.298429</td>\n",
       "      <td>0.058309</td>\n",
       "      <td>0.413433</td>\n",
       "      <td>0.324786</td>\n",
       "      <td>0.083333</td>\n",
       "      <td>0.411171</td>\n",
       "      <td>0.260377</td>\n",
       "      <td>0.664286</td>\n",
       "      <td>0.290476</td>\n",
       "      <td>0.1250</td>\n",
       "      <td>0.294393</td>\n",
       "      <td>0.346939</td>\n",
       "      <td>0.222222</td>\n",
       "      <td>0.289474</td>\n",
       "      <td>16500.0</td>\n",
       "    </tr>\n",
       "    <tr>\n",
       "      <th>2</th>\n",
       "      <td>0.298429</td>\n",
       "      <td>0.230321</td>\n",
       "      <td>0.449254</td>\n",
       "      <td>0.444444</td>\n",
       "      <td>0.383333</td>\n",
       "      <td>0.517843</td>\n",
       "      <td>0.343396</td>\n",
       "      <td>0.100000</td>\n",
       "      <td>0.666667</td>\n",
       "      <td>0.1250</td>\n",
       "      <td>0.495327</td>\n",
       "      <td>0.346939</td>\n",
       "      <td>0.166667</td>\n",
       "      <td>0.263158</td>\n",
       "      <td>16500.0</td>\n",
       "    </tr>\n",
       "    <tr>\n",
       "      <th>3</th>\n",
       "      <td>0.518325</td>\n",
       "      <td>0.384840</td>\n",
       "      <td>0.529851</td>\n",
       "      <td>0.504274</td>\n",
       "      <td>0.541667</td>\n",
       "      <td>0.329325</td>\n",
       "      <td>0.181132</td>\n",
       "      <td>0.464286</td>\n",
       "      <td>0.633333</td>\n",
       "      <td>0.1875</td>\n",
       "      <td>0.252336</td>\n",
       "      <td>0.551020</td>\n",
       "      <td>0.305556</td>\n",
       "      <td>0.368421</td>\n",
       "      <td>13950.0</td>\n",
       "    </tr>\n",
       "    <tr>\n",
       "      <th>4</th>\n",
       "      <td>0.518325</td>\n",
       "      <td>0.373178</td>\n",
       "      <td>0.529851</td>\n",
       "      <td>0.521368</td>\n",
       "      <td>0.541667</td>\n",
       "      <td>0.518231</td>\n",
       "      <td>0.283019</td>\n",
       "      <td>0.464286</td>\n",
       "      <td>0.633333</td>\n",
       "      <td>0.0625</td>\n",
       "      <td>0.313084</td>\n",
       "      <td>0.551020</td>\n",
       "      <td>0.138889</td>\n",
       "      <td>0.157895</td>\n",
       "      <td>17450.0</td>\n",
       "    </tr>\n",
       "  </tbody>\n",
       "</table>\n",
       "</div>"
      ],
      "text/plain": [
       "   normalized-losses  wheel-base    length     width    height  curb-weight  \\\n",
       "0           0.298429    0.058309  0.413433  0.324786  0.083333     0.411171   \n",
       "1           0.298429    0.058309  0.413433  0.324786  0.083333     0.411171   \n",
       "2           0.298429    0.230321  0.449254  0.444444  0.383333     0.517843   \n",
       "3           0.518325    0.384840  0.529851  0.504274  0.541667     0.329325   \n",
       "4           0.518325    0.373178  0.529851  0.521368  0.541667     0.518231   \n",
       "\n",
       "   engine-size      bore    stroke  compression-rate  horsepower  peak-rpm  \\\n",
       "0     0.260377  0.664286  0.290476            0.1250    0.294393  0.346939   \n",
       "1     0.260377  0.664286  0.290476            0.1250    0.294393  0.346939   \n",
       "2     0.343396  0.100000  0.666667            0.1250    0.495327  0.346939   \n",
       "3     0.181132  0.464286  0.633333            0.1875    0.252336  0.551020   \n",
       "4     0.283019  0.464286  0.633333            0.0625    0.313084  0.551020   \n",
       "\n",
       "   city-mpg  highway-mpg    price  \n",
       "0  0.222222     0.289474  13495.0  \n",
       "1  0.222222     0.289474  16500.0  \n",
       "2  0.166667     0.263158  16500.0  \n",
       "3  0.305556     0.368421  13950.0  \n",
       "4  0.138889     0.157895  17450.0  "
      ]
     },
     "execution_count": 20,
     "metadata": {},
     "output_type": "execute_result"
    }
   ],
   "source": [
    "numeric_cars.head()"
   ]
  },
  {
   "cell_type": "markdown",
   "id": "2c672c28-968b-4007-8312-81289e5c5611",
   "metadata": {},
   "source": [
    "# **Univariate k-nearest neighbors models**"
   ]
  },
  {
   "cell_type": "code",
   "execution_count": 21,
   "id": "691c343c-ee45-4602-b8ed-f8d0da827ce4",
   "metadata": {},
   "outputs": [
    {
     "name": "stdout",
     "output_type": "stream",
     "text": [
      "Requirement already satisfied: scikit-learn in c:\\users\\krabh\\appdata\\local\\programs\\python\\python39\\lib\\site-packages (1.3.1)\n",
      "Requirement already satisfied: numpy<2.0,>=1.17.3 in c:\\users\\krabh\\appdata\\local\\programs\\python\\python39\\lib\\site-packages (from scikit-learn) (1.26.0)\n",
      "Requirement already satisfied: scipy>=1.5.0 in c:\\users\\krabh\\appdata\\local\\programs\\python\\python39\\lib\\site-packages (from scikit-learn) (1.11.3)\n",
      "Requirement already satisfied: joblib>=1.1.1 in c:\\users\\krabh\\appdata\\local\\programs\\python\\python39\\lib\\site-packages (from scikit-learn) (1.3.2)\n",
      "Requirement already satisfied: threadpoolctl>=2.0.0 in c:\\users\\krabh\\appdata\\local\\programs\\python\\python39\\lib\\site-packages (from scikit-learn) (3.2.0)\n",
      "Note: you may need to restart the kernel to use updated packages.\n"
     ]
    }
   ],
   "source": [
    "pip install scikit-learn"
   ]
  },
  {
   "cell_type": "code",
   "execution_count": 22,
   "id": "83607f7e-5ec3-4b4c-a66d-445286100f6a",
   "metadata": {},
   "outputs": [],
   "source": [
    "from sklearn.neighbors import KNeighborsRegressor\n",
    "from sklearn.metrics import mean_squared_error\n",
    "\n",
    "def knn_train_test(feature_col, target_col, df):\n",
    "    knn = KNeighborsRegressor(n_neighbors=5)\n",
    "    end_pt = round(len(df)/2)\n",
    "    train_df = df.iloc[:end_pt]\n",
    "    test_df = df.iloc[end_pt:]\n",
    "    knn.fit(train_df[[feature_col]], train_df[target_col])\n",
    "    predictions = knn.predict(test_df[[feature_col]])\n",
    "    mse = mean_squared_error(test_df[target_col], predictions)\n",
    "    rmse = mse**0.5\n",
    "    return rmse"
   ]
  },
  {
   "cell_type": "code",
   "execution_count": 23,
   "id": "2be73b4c-bd78-497e-8a67-bc0670deb161",
   "metadata": {},
   "outputs": [],
   "source": [
    "cols = ['normalized-losses', 'wheel-base', 'length', 'width', 'height', 'curb-weight', 'engine-size', 'bore', 'stroke', 'compression-rate', 'horsepower', 'peak-rpm', 'city-mpg', 'highway-mpg']\n",
    "rmse_list = []\n",
    "for col in cols:\n",
    "    rmse_list.append(knn_train_test(col, 'price', numeric_cars))\n",
    "    \n",
    "feature_rmse = pd.Series(index = cols, data = rmse_list)"
   ]
  },
  {
   "cell_type": "code",
   "execution_count": 24,
   "id": "ec629eb6-c7c3-430d-92eb-0e87f9f382b3",
   "metadata": {},
   "outputs": [
    {
     "data": {
      "text/plain": [
       "normalized-losses     8253.454114\n",
       "wheel-base            9826.306575\n",
       "length                8374.353066\n",
       "width                 6887.047156\n",
       "height               10985.872732\n",
       "curb-weight           5167.360978\n",
       "engine-size           4316.152192\n",
       "bore                 13543.588377\n",
       "stroke               10751.215714\n",
       "compression-rate      8714.929419\n",
       "horsepower            4286.593963\n",
       "peak-rpm             10387.965997\n",
       "city-mpg              4805.479894\n",
       "highway-mpg           4065.651028\n",
       "dtype: float64"
      ]
     },
     "execution_count": 24,
     "metadata": {},
     "output_type": "execute_result"
    }
   ],
   "source": [
    "feature_rmse"
   ]
  },
  {
   "cell_type": "code",
   "execution_count": 25,
   "id": "056ac613-d201-43d7-89c7-4ffd81fd7c1b",
   "metadata": {},
   "outputs": [
    {
     "name": "stdout",
     "output_type": "stream",
     "text": [
      "Requirement already satisfied: matplotlib in c:\\users\\krabh\\appdata\\local\\programs\\python\\python39\\lib\\site-packages (3.8.0)\n",
      "Requirement already satisfied: contourpy>=1.0.1 in c:\\users\\krabh\\appdata\\local\\programs\\python\\python39\\lib\\site-packages (from matplotlib) (1.1.1)\n",
      "Requirement already satisfied: cycler>=0.10 in c:\\users\\krabh\\appdata\\local\\programs\\python\\python39\\lib\\site-packages (from matplotlib) (0.12.0)\n",
      "Requirement already satisfied: fonttools>=4.22.0 in c:\\users\\krabh\\appdata\\local\\programs\\python\\python39\\lib\\site-packages (from matplotlib) (4.43.0)\n",
      "Requirement already satisfied: kiwisolver>=1.0.1 in c:\\users\\krabh\\appdata\\local\\programs\\python\\python39\\lib\\site-packages (from matplotlib) (1.4.5)\n",
      "Requirement already satisfied: numpy<2,>=1.21 in c:\\users\\krabh\\appdata\\local\\programs\\python\\python39\\lib\\site-packages (from matplotlib) (1.26.0)\n",
      "Requirement already satisfied: packaging>=20.0 in c:\\users\\krabh\\appdata\\local\\programs\\python\\python39\\lib\\site-packages (from matplotlib) (23.2)\n",
      "Requirement already satisfied: pillow>=6.2.0 in c:\\users\\krabh\\appdata\\local\\programs\\python\\python39\\lib\\site-packages (from matplotlib) (10.0.1)\n",
      "Requirement already satisfied: pyparsing>=2.3.1 in c:\\users\\krabh\\appdata\\local\\programs\\python\\python39\\lib\\site-packages (from matplotlib) (3.1.1)\n",
      "Requirement already satisfied: python-dateutil>=2.7 in c:\\users\\krabh\\appdata\\local\\programs\\python\\python39\\lib\\site-packages (from matplotlib) (2.8.2)\n",
      "Requirement already satisfied: importlib-resources>=3.2.0 in c:\\users\\krabh\\appdata\\local\\programs\\python\\python39\\lib\\site-packages (from matplotlib) (6.1.0)\n",
      "Requirement already satisfied: zipp>=3.1.0 in c:\\users\\krabh\\appdata\\local\\programs\\python\\python39\\lib\\site-packages (from importlib-resources>=3.2.0->matplotlib) (3.17.0)\n",
      "Requirement already satisfied: six>=1.5 in c:\\users\\krabh\\appdata\\local\\programs\\python\\python39\\lib\\site-packages (from python-dateutil>=2.7->matplotlib) (1.16.0)\n",
      "Note: you may need to restart the kernel to use updated packages.\n"
     ]
    }
   ],
   "source": [
    "pip install matplotlib"
   ]
  },
  {
   "cell_type": "code",
   "execution_count": 26,
   "id": "a61b4931-3132-476e-9bf7-ce120c0ecec8",
   "metadata": {
    "scrolled": true
   },
   "outputs": [
    {
     "name": "stdout",
     "output_type": "stream",
     "text": [
      "Requirement already satisfied: seaborn in c:\\users\\krabh\\appdata\\local\\programs\\python\\python39\\lib\\site-packages (0.13.0)\n",
      "Requirement already satisfied: numpy!=1.24.0,>=1.20 in c:\\users\\krabh\\appdata\\local\\programs\\python\\python39\\lib\\site-packages (from seaborn) (1.26.0)\n",
      "Requirement already satisfied: pandas>=1.2 in c:\\users\\krabh\\appdata\\local\\programs\\python\\python39\\lib\\site-packages (from seaborn) (2.1.1)\n",
      "Requirement already satisfied: matplotlib!=3.6.1,>=3.3 in c:\\users\\krabh\\appdata\\local\\programs\\python\\python39\\lib\\site-packages (from seaborn) (3.8.0)\n",
      "Requirement already satisfied: contourpy>=1.0.1 in c:\\users\\krabh\\appdata\\local\\programs\\python\\python39\\lib\\site-packages (from matplotlib!=3.6.1,>=3.3->seaborn) (1.1.1)\n",
      "Requirement already satisfied: cycler>=0.10 in c:\\users\\krabh\\appdata\\local\\programs\\python\\python39\\lib\\site-packages (from matplotlib!=3.6.1,>=3.3->seaborn) (0.12.0)\n",
      "Requirement already satisfied: fonttools>=4.22.0 in c:\\users\\krabh\\appdata\\local\\programs\\python\\python39\\lib\\site-packages (from matplotlib!=3.6.1,>=3.3->seaborn) (4.43.0)\n",
      "Requirement already satisfied: kiwisolver>=1.0.1 in c:\\users\\krabh\\appdata\\local\\programs\\python\\python39\\lib\\site-packages (from matplotlib!=3.6.1,>=3.3->seaborn) (1.4.5)\n",
      "Requirement already satisfied: packaging>=20.0 in c:\\users\\krabh\\appdata\\local\\programs\\python\\python39\\lib\\site-packages (from matplotlib!=3.6.1,>=3.3->seaborn) (23.2)\n",
      "Requirement already satisfied: pillow>=6.2.0 in c:\\users\\krabh\\appdata\\local\\programs\\python\\python39\\lib\\site-packages (from matplotlib!=3.6.1,>=3.3->seaborn) (10.0.1)\n",
      "Requirement already satisfied: pyparsing>=2.3.1 in c:\\users\\krabh\\appdata\\local\\programs\\python\\python39\\lib\\site-packages (from matplotlib!=3.6.1,>=3.3->seaborn) (3.1.1)\n",
      "Requirement already satisfied: python-dateutil>=2.7 in c:\\users\\krabh\\appdata\\local\\programs\\python\\python39\\lib\\site-packages (from matplotlib!=3.6.1,>=3.3->seaborn) (2.8.2)\n",
      "Requirement already satisfied: importlib-resources>=3.2.0 in c:\\users\\krabh\\appdata\\local\\programs\\python\\python39\\lib\\site-packages (from matplotlib!=3.6.1,>=3.3->seaborn) (6.1.0)\n",
      "Requirement already satisfied: pytz>=2020.1 in c:\\users\\krabh\\appdata\\local\\programs\\python\\python39\\lib\\site-packages (from pandas>=1.2->seaborn) (2023.3.post1)\n",
      "Requirement already satisfied: tzdata>=2022.1 in c:\\users\\krabh\\appdata\\local\\programs\\python\\python39\\lib\\site-packages (from pandas>=1.2->seaborn) (2023.3)\n",
      "Requirement already satisfied: zipp>=3.1.0 in c:\\users\\krabh\\appdata\\local\\programs\\python\\python39\\lib\\site-packages (from importlib-resources>=3.2.0->matplotlib!=3.6.1,>=3.3->seaborn) (3.17.0)\n",
      "Requirement already satisfied: six>=1.5 in c:\\users\\krabh\\appdata\\local\\programs\\python\\python39\\lib\\site-packages (from python-dateutil>=2.7->matplotlib!=3.6.1,>=3.3->seaborn) (1.16.0)\n",
      "Note: you may need to restart the kernel to use updated packages.\n"
     ]
    }
   ],
   "source": [
    "pip install seaborn "
   ]
  },
  {
   "cell_type": "code",
   "execution_count": 27,
   "id": "9befd944-93fc-4caa-b30b-690b1e062145",
   "metadata": {},
   "outputs": [],
   "source": [
    "import matplotlib.pyplot as plt\n",
    "import seaborn as sns"
   ]
  },
  {
   "cell_type": "code",
   "execution_count": 28,
   "id": "e7ec217d-2663-41cd-9122-4bbdc1f4f023",
   "metadata": {},
   "outputs": [
    {
     "data": {
      "image/png": "[encoded data removed]",
      "text/plain": [
       "<Figure size 640x480 with 1 Axes>"
      ]
     },
     "metadata": {},
     "output_type": "display_data"
    }
   ],
   "source": [
    "%matplotlib inline\n",
    "feature_rmse.plot(kind='bar')\n",
    "plt.xlabel('Feature')\n",
    "plt.ylabel('RMSE')\n",
    "plt.show()"
   ]
  },
  {
   "cell_type": "code",
   "execution_count": 29,
   "id": "ee263620-b939-4128-a053-a5ddf9666086",
   "metadata": {},
   "outputs": [],
   "source": [
    "# the same function but with k value parameter\n",
    "def knn_train_test_k(feature_col, target_col, df, k_val):\n",
    "    knn = KNeighborsRegressor(n_neighbors=k_val)\n",
    "    end_pt = round(len(df)/2)\n",
    "    train_df = df.iloc[:end_pt]\n",
    "    test_df = df.iloc[end_pt:]\n",
    "    \n",
    "    knn.fit(train_df[[feature_col]], train_df[target_col])\n",
    "    predictions = knn.predict(test_df[[feature_col]])\n",
    "    mse = mean_squared_error(test_df[target_col], predictions)\n",
    "    rmse = mse**0.5\n",
    "    return rmse"
   ]
  },
  {
   "cell_type": "code",
   "execution_count": 30,
   "id": "92ae595d-b645-443b-924d-29961d3e84c1",
   "metadata": {},
   "outputs": [
    {
     "data": {
      "text/plain": [
       "{'normalized-losses': {1: 9231.877408477028,\n",
       "  3: 9530.042470212209,\n",
       "  5: 8253.454114334541,\n",
       "  7: 7624.170902272588,\n",
       "  9: 7915.407534894623},\n",
       " 'wheel-base': {1: 8367.568719008332,\n",
       "  3: 9615.019076048851,\n",
       "  5: 9826.306575214263,\n",
       "  7: 9067.726290811148,\n",
       "  9: 8623.998003867615},\n",
       " 'length': {1: 10792.870832266093,\n",
       "  3: 8525.294165051437,\n",
       "  5: 8374.353066120368,\n",
       "  7: 8385.430687671384,\n",
       "  9: 7650.8561591800635},\n",
       " 'width': {1: 8128.726248056431,\n",
       "  3: 7358.7651369665355,\n",
       "  5: 6887.047156326528,\n",
       "  7: 6715.128595022317,\n",
       "  9: 6513.940660226193},\n",
       " 'height': {1: 15478.999822180034,\n",
       "  3: 11114.422683399194,\n",
       "  5: 10985.872731849573,\n",
       "  7: 10097.624595057976,\n",
       "  9: 9093.756287144182},\n",
       " 'curb-weight': {1: 6576.654287239173,\n",
       "  3: 5636.668605585832,\n",
       "  5: 5167.360977528007,\n",
       "  7: 5244.687502529751,\n",
       "  9: 5240.0877200925515},\n",
       " 'engine-size': {1: 5059.805426149809,\n",
       "  3: 4686.640113253322,\n",
       "  5: 4316.152192097324,\n",
       "  7: 4207.9531498167535,\n",
       "  9: 4009.517713037623},\n",
       " 'bore': {1: 15104.12253572704,\n",
       "  3: 14404.201581948975,\n",
       "  5: 13543.588376558973,\n",
       "  7: 11254.028418417738,\n",
       "  9: 10693.470963228594},\n",
       " 'stroke': {1: 10213.654756023798,\n",
       "  3: 11515.53093925683,\n",
       "  5: 10751.215713749045,\n",
       "  7: 8014.6872043790445,\n",
       "  9: 7731.0766489498355},\n",
       " 'compression-rate': {1: 8500.143617889786,\n",
       "  3: 8619.046119235036,\n",
       "  5: 8714.929418890186,\n",
       "  7: 8313.022004508584,\n",
       "  9: 7681.278344002661},\n",
       " 'horsepower': {1: 7302.284613342418,\n",
       "  3: 5614.405948452196,\n",
       "  5: 4286.5939629001805,\n",
       "  7: 3753.690671715105,\n",
       "  9: 3501.624581995904},\n",
       " 'peak-rpm': {1: 12085.27448534532,\n",
       "  3: 11574.391236952837,\n",
       "  5: 10387.965997210807,\n",
       "  7: 9612.687423731459,\n",
       "  9: 9450.352020097062},\n",
       " 'city-mpg': {1: 5726.22314055657,\n",
       "  3: 4727.043947526634,\n",
       "  5: 4805.479893654414,\n",
       "  7: 4728.865457149375,\n",
       "  9: 4843.457853926773},\n",
       " 'highway-mpg': {1: 5612.116793242109,\n",
       "  3: 4400.961224513341,\n",
       "  5: 4065.6510280618277,\n",
       "  7: 4034.936995779623,\n",
       "  9: 3921.098996197143}}"
      ]
     },
     "execution_count": 30,
     "metadata": {},
     "output_type": "execute_result"
    }
   ],
   "source": [
    "rmse_dict = {}\n",
    "for col in cols:\n",
    "    k_dict = {}\n",
    "    for i in range(1, 10, 2):\n",
    "        rmse_val = knn_train_test_k(col, 'price', numeric_cars, i)\n",
    "        k_dict[i] = rmse_val\n",
    "    rmse_dict[col] = k_dict\n",
    "\n",
    "rmse_dict"
   ]
  },
  {
   "cell_type": "code",
   "execution_count": 31,
   "id": "dd6991d0-3c53-4935-8ba3-5d751cef8249",
   "metadata": {},
   "outputs": [
    {
     "data": {
      "image/png": "[encoded data removed]",
      "text/plain": [
       "<Figure size 640x480 with 1 Axes>"
      ]
     },
     "metadata": {},
     "output_type": "display_data"
    }
   ],
   "source": [
    "%matplotlib inline\n",
    "\n",
    "for k, v in rmse_dict.items():\n",
    "    x = [i for i in range(1, 10, 2)]\n",
    "    y = []\n",
    "    for i in x:\n",
    "        y.append(v[i])\n",
    "    \n",
    "    plt.plot(x, y)\n",
    "    plt.xlabel('K Value')\n",
    "    plt.ylabel('RMSE')"
   ]
  },
  {
   "cell_type": "markdown",
   "id": "098f05d5-7853-48de-b897-9e633f17b5cf",
   "metadata": {},
   "source": [
    "## **Multivariate k-nearest neighbors models**"
   ]
  },
  {
   "cell_type": "code",
   "execution_count": 32,
   "id": "79bfa2ae-c07c-42dc-8e0f-8fd06513adf6",
   "metadata": {},
   "outputs": [
    {
     "data": {
      "text/plain": [
       "highway-mpg    4065.651028\n",
       "horsepower     4286.593963\n",
       "engine-size    4316.152192\n",
       "city-mpg       4805.479894\n",
       "curb-weight    5167.360978\n",
       "dtype: float64"
      ]
     },
     "execution_count": 32,
     "metadata": {},
     "output_type": "execute_result"
    }
   ],
   "source": [
    "feature_rmse.sort_values(ascending=True).head(5)  # the results of the previous run(univariate model)"
   ]
  },
  {
   "cell_type": "code",
   "execution_count": 33,
   "id": "10035066-e1a4-49ae-87ba-caf7bfc10bd0",
   "metadata": {},
   "outputs": [],
   "source": [
    "from sklearn.neighbors import KNeighborsRegressor\n",
    "from sklearn.metrics import mean_squared_error\n",
    "\n",
    "# this function can now accept multiple feature values\n",
    "def knn_train_test(feature_cols, target_col, df, k_val):\n",
    "    # feature_cols is a list\n",
    "    knn = KNeighborsRegressor(n_neighbors=k_val)\n",
    "    end_pt = round(len(df)/2)\n",
    "    train_df = df.iloc[:end_pt]\n",
    "    test_df = df.iloc[end_pt:]\n",
    "    knn.fit(train_df[feature_cols], train_df[target_col])\n",
    "    predictions = knn.predict(test_df[feature_cols])\n",
    "    mse = mean_squared_error(test_df[target_col], predictions)\n",
    "    rmse = mse**0.5\n",
    "    return rmse"
   ]
  },
  {
   "cell_type": "code",
   "execution_count": 34,
   "id": "a50a96ad-f0c7-44af-8487-ea86391374b1",
   "metadata": {},
   "outputs": [],
   "source": [
    "features = ['engine-size', 'horsepower', 'highway-mpg', 'city-mpg',\n",
    "            'curb-weight']\n",
    "feature_used = []\n",
    "rmse_dict = {}\n",
    "for i in range(5):\n",
    "    feature_used.append(features[i])\n",
    "    rmse_val = knn_train_test(feature_used, 'price', numeric_cars, 5)\n",
    "    rmse_dict[str(feature_used)] = rmse_val"
   ]
  },
  {
   "cell_type": "code",
   "execution_count": 35,
   "id": "771d77a2-3256-4200-81a5-5504a28dc9b4",
   "metadata": {},
   "outputs": [
    {
     "name": "stdout",
     "output_type": "stream",
     "text": [
      "['engine-size']\n",
      "4316.152192097324\n",
      "----------\n",
      "['engine-size', 'horsepower']\n",
      "3465.342388695681\n",
      "----------\n",
      "['engine-size', 'horsepower', 'highway-mpg']\n",
      "3573.993044533836\n",
      "----------\n",
      "['engine-size', 'horsepower', 'highway-mpg', 'city-mpg']\n",
      "3540.6241552462006\n",
      "----------\n",
      "['engine-size', 'horsepower', 'highway-mpg', 'city-mpg', 'curb-weight']\n",
      "3880.1932327099785\n",
      "----------\n"
     ]
    }
   ],
   "source": [
    "for k, v in rmse_dict.items():\n",
    "    print(k)\n",
    "    print(v)\n",
    "    print('-'*10)"
   ]
  },
  {
   "cell_type": "markdown",
   "id": "5a82ed84-570e-446c-b952-e22ed9feb7f1",
   "metadata": {},
   "source": [
    "## **Hyperparameter Tuning**"
   ]
  },
  {
   "cell_type": "markdown",
   "id": "464b3bf6-16fa-43b2-831e-e9694eea41c5",
   "metadata": {},
   "source": [
    "From the previous model the top 3 were the ones with the following features :-\n",
    "\n",
    "- ['engine-size', 'horsepower']\r",
    "- \n",
    "['engine-size', 'horsepower', 'highway-mpg', 'city-mpg']\n",
    "- \r\n",
    "['engine-size', 'horsepower', 'highway-mpg\n",
    "\n",
    "We will now vary the hyperparameter(n-neighbors) from 1 to 25 to find the optimum value for each of the three models.']"
   ]
  },
  {
   "cell_type": "markdown",
   "id": "7a2abde9-ab20-403a-bc3c-fe008696b48c",
   "metadata": {},
   "source": [
    "#### **MODEL-1**"
   ]
  },
  {
   "cell_type": "code",
   "execution_count": 36,
   "id": "1d84497e-ecc4-4f9c-8434-a573d87bdcd6",
   "metadata": {},
   "outputs": [],
   "source": [
    "features = ['engine-size', 'horsepower']\n",
    "rmse_dict_1 = {}\n",
    "for i in range(1, 26):\n",
    "    rmse_val = knn_train_test(features, 'price', numeric_cars, i)\n",
    "    rmse_dict_1[i] = rmse_val"
   ]
  },
  {
   "cell_type": "code",
   "execution_count": 37,
   "id": "9b8c9241-74b5-436b-9981-9830ae23f1c9",
   "metadata": {},
   "outputs": [
    {
     "data": {
      "image/png": "[encoded data removed]",
      "text/plain": [
       "<Figure size 640x480 with 1 Axes>"
      ]
     },
     "metadata": {},
     "output_type": "display_data"
    }
   ],
   "source": [
    "pd.Series(rmse_dict_1).plot()\n",
    "plt.xlabel('K-Neighbors')\n",
    "plt.ylabel('RMSE')\n",
    "plt.title('MODEL-1')\n",
    "test = plt.show()"
   ]
  },
  {
   "cell_type": "markdown",
   "id": "bf0e1cd8-53dc-4b97-b444-606deb424984",
   "metadata": {},
   "source": [
    "#### **MODEL-2**"
   ]
  },
  {
   "cell_type": "code",
   "execution_count": 38,
   "id": "70bc721d-4052-4a16-ab14-b8e83a4aeb95",
   "metadata": {},
   "outputs": [],
   "source": [
    "features = ['engine-size', 'horsepower', 'highway-mpg', 'city-mpg']\n",
    "rmse_dict_2 = {}\n",
    "for i in range(1, 26):\n",
    "    rmse_val = knn_train_test(features, 'price', numeric_cars, i)\n",
    "    rmse_dict_2[i] = rmse_val"
   ]
  },
  {
   "cell_type": "code",
   "execution_count": 39,
   "id": "1206b35d-d629-441a-bcd8-bffcaf7fb78c",
   "metadata": {},
   "outputs": [
    {
     "data": {
      "image/png": "[encoded data removed]",
      "text/plain": [
       "<Figure size 640x480 with 1 Axes>"
      ]
     },
     "metadata": {},
     "output_type": "display_data"
    }
   ],
   "source": [
    "pd.Series(rmse_dict_2).plot()\n",
    "plt.xlabel('K-Neighbors')\n",
    "plt.ylabel('RMSE')\n",
    "plt.title('MODEL-2')\n",
    "plt.show()\n"
   ]
  },
  {
   "cell_type": "markdown",
   "id": "03c9d2fc-f8d9-44a3-8a10-a8c6bce28aa0",
   "metadata": {},
   "source": [
    "#### **MODEL-3**"
   ]
  },
  {
   "cell_type": "code",
   "execution_count": 40,
   "id": "afbfafc4-d12a-4b2d-aa95-b870bc448531",
   "metadata": {},
   "outputs": [],
   "source": [
    "features = ['engine-size', 'horsepower', 'highway-mpg']\n",
    "rmse_dict_3 = {}\n",
    "for i in range(1, 26):\n",
    "    rmse_val = knn_train_test(features, 'price', numeric_cars, i)\n",
    "    rmse_dict_3[i] = rmse_val"
   ]
  },
  {
   "cell_type": "code",
   "execution_count": 41,
   "id": "42875c2d-c7f5-4564-9f14-150bb804372b",
   "metadata": {},
   "outputs": [
    {
     "data": {
      "image/png": "[encoded data removed]",
      "text/plain": [
       "<Figure size 640x480 with 1 Axes>"
      ]
     },
     "metadata": {},
     "output_type": "display_data"
    }
   ],
   "source": [
    "pd.Series(rmse_dict_3).plot()\n",
    "plt.xlabel('K-Neighbors')\n",
    "plt.ylabel('RMSE')\n",
    "plt.title('MODEL-2')\n",
    "plt.show()"
   ]
  },
  {
   "cell_type": "markdown",
   "id": "09ea291b-7a02-4893-a0a5-b72b20ae8897",
   "metadata": {},
   "source": [
    "From the above three graphs we can see that k value of 9 returned the least rmse for the all the three models so k value of 9 should be used."
   ]
  },
  {
   "cell_type": "code",
   "execution_count": null,
   "id": "087ccf75-8f63-4081-a7ab-79fa99114bf2",
   "metadata": {},
   "outputs": [],
   "source": []
  }
 ],
 "metadata": {
  "kernelspec": {
   "display_name": "Python 3 (ipykernel)",
   "language": "python",
   "name": "python3"
  },
  "language_info": {
   "codemirror_mode": {
    "name": "ipython",
    "version": 3
   },
   "file_extension": ".py",
   "mimetype": "text/x-python",
   "name": "python",
   "nbconvert_exporter": "python",
   "pygments_lexer": "ipython3",
   "version": "3.9.6"
  }
 },
 "nbformat": 4,
 "nbformat_minor": 5
}
